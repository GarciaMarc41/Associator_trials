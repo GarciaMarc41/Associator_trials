{
 "cells": [
  {
   "cell_type": "code",
   "execution_count": 1,
   "metadata": {
    "tags": []
   },
   "outputs": [],
   "source": [
    "import pandas as pd\n",
    "from datetime import datetime, timedelta\n",
    "from gamma import BayesianGaussianMixture, GaussianMixture\n",
    "from gamma.utils import convert_picks_csv, association, from_seconds\n",
    "import numpy as np\n",
    "from sklearn.cluster import DBSCAN \n",
    "from datetime import datetime, timedelta\n",
    "import os\n",
    "import json\n",
    "import pickle\n",
    "from pyproj import Proj\n",
    "from tqdm import tqdm"
   ]
  },
  {
   "cell_type": "code",
   "execution_count": 7,
   "metadata": {
    "tags": []
   },
   "outputs": [
    {
     "name": "stdout",
     "output_type": "stream",
     "text": [
      "center: (-95.3516, 16.3274)\n",
      "xlim_degree: [-99.5665, -91.1368]\n",
      "ylim_degree: [13.5593, 19.0956]\n",
      "degree2km: 106.659\n",
      "starttime: 2017-10-15 00:00:00\n",
      "endtime: 2017-10-18 00:00:00\n",
      "use_dbscan: True\n",
      "use_amplitude: True\n",
      "method: BGMM\n",
      "oversample_factor: 4\n",
      "vel: {'p': 6.0, 's': 3.4285714285714284}\n",
      "dims: ['x(km)', 'y(km)', 'z(km)']\n",
      "x(km): [-449.5570191  449.5463532]\n",
      "y(km): [-295.2427779  295.2534438]\n",
      "z(km): (0, 20)\n",
      "bfgs_bounds: ((-450.55701910000005, 450.5463532000012), (-296.2427779000001, 296.2534438), (0, 21), (None, None))\n",
      "dbscan_eps: 10\n",
      "dbscan_min_samples: 3\n",
      "min_picks_per_eq: 10\n",
      "min_p_picks_per_eq: 0\n",
      "min_s_picks_per_eq: 0\n",
      "max_sigma11: 2.0\n",
      "max_sigma22: 1.0\n",
      "max_sigma12: 1.0\n"
     ]
    }
   ],
   "source": [
    "data_dir = lambda x: os.path.join(\"working\", x)\n",
    "station_csv = data_dir(\"stations1.csv\")\n",
    "picks = data_dir(\"picks.csv\")\n",
    "catalog_csv = data_dir(\"catalog_gamma.csv\")\n",
    "picks_csv = data_dir(\"picks_gamma.csv\")\n",
    "\n",
    "\n",
    "if not os.path.exists(\"figures\"):\n",
    "    os.makedirs(\"figures\")\n",
    "figure_dir = lambda x: os.path.join(\"figures\", x)\n",
    "\n",
    "config = {'center': (-95.3516, 16.3274), \n",
    "    'xlim_degree': [-99.5665, -91.1368], \n",
    "    'ylim_degree': [13.5593, 19.0956], \n",
    "    'degree2km': 106.659, \n",
    "    'starttime': datetime(2017, 10, 15, 0, 0), \n",
    "    'endtime': datetime(2017, 10, 18, 0, 0)}\n",
    "## read picks\n",
    "picks = pd.read_csv(picks)\n",
    "picks = picks.rename(columns={\n",
    "    \"station_id\": \"id\",\n",
    "    \"phase_time\": \"timestamp\",\n",
    "    \"phase_amp\": \"amp\",\n",
    "    \"phase_type\": \"type\",\n",
    "    \"phase_score\": \"prob\"\n",
    "})\n",
    "\n",
    "\n",
    "\n",
    "## read stations\n",
    "stations = pd.read_csv(station_csv, delimiter=\"\\t\")\n",
    "stations = stations.rename(columns={\"station\":\"id\"})\n",
    "proj = Proj(f\"+proj=sterea +lon_0={config['center'][0]} +lat_0={config['center'][1]} +units=km\")\n",
    "stations[[\"x(km)\", \"y(km)\"]] = stations.apply(lambda x: pd.Series(proj(x[\"longitude\"], x[\"latitude\"])), axis=1)\n",
    "stations[\"z(km)\"] = stations[\"elevation(m)\"].apply(lambda x: -x/1e3)\n",
    "\n",
    "### setting GMMA configs\n",
    "config[\"use_dbscan\"] = True\n",
    "config[\"use_amplitude\"] = True\n",
    "config[\"method\"] = \"BGMM\"  \n",
    "if config[\"method\"] == \"BGMM\": ## BayesianGaussianMixture\n",
    "    config[\"oversample_factor\"] = 4\n",
    "if config[\"method\"] == \"GMM\": ## GaussianMixture\n",
    "    config[\"oversample_factor\"] = 1\n",
    "\n",
    "# earthquake location\n",
    "config[\"vel\"] = {\"p\": 6.0, \"s\": 6.0 / 1.75}\n",
    "config[\"dims\"] = ['x(km)', 'y(km)', 'z(km)']\n",
    "config[\"x(km)\"] = (np.array(config[\"xlim_degree\"])-np.array(config[\"center\"][0]))*config[\"degree2km\"]\n",
    "config[\"y(km)\"] = (np.array(config[\"ylim_degree\"])-np.array(config[\"center\"][1]))*config[\"degree2km\"]\n",
    "config[\"z(km)\"] = (0, 20)\n",
    "config[\"bfgs_bounds\"] = (\n",
    "    (config[\"x(km)\"][0] - 1, config[\"x(km)\"][1] + 1),  # x\n",
    "    (config[\"y(km)\"][0] - 1, config[\"y(km)\"][1] + 1),  # y\n",
    "    (0, config[\"z(km)\"][1] + 1),  # z\n",
    "    (None, None),  # t\n",
    ")   \n",
    "\n",
    "# DBSCAN\n",
    "config[\"dbscan_eps\"] = 10 #s\n",
    "config[\"dbscan_min_samples\"] = 3\n",
    "\n",
    "# filtering\n",
    "config[\"min_picks_per_eq\"] = min(10, len(stations) // 2)\n",
    "config[\"min_p_picks_per_eq\"] = 0\n",
    "config[\"min_s_picks_per_eq\"] = 0\n",
    "config[\"max_sigma11\"] = 2.0 # s\n",
    "config[\"max_sigma22\"] = 1.0 # log10(m/s)\n",
    "config[\"max_sigma12\"] = 1.0 # covariance\n",
    "\n",
    "## filter picks without amplitude measurements\n",
    "if config[\"use_amplitude\"]:\n",
    "    picks = picks[picks[\"amp\"] != -1]\n",
    "\n",
    "for k, v in config.items():\n",
    "    print(f\"{k}: {v}\")"
   ]
  },
  {
   "cell_type": "markdown",
   "metadata": {},
   "source": [
    "## 2. Associaiton with GaMMA"
   ]
  },
  {
   "cell_type": "code",
   "execution_count": 5,
   "metadata": {
    "tags": []
   },
   "outputs": [
    {
     "name": "stderr",
     "output_type": "stream",
     "text": [
      "Skip 7884 picks: 100%|███████████████████| 9585/9585 [00:00<00:00, 12810.54it/s]\n"
     ]
    },
    {
     "ename": "ValueError",
     "evalue": "Columns must be same length as key",
     "output_type": "error",
     "traceback": [
      "\u001b[0;31m---------------------------------------------------------------------------\u001b[0m",
      "\u001b[0;31mValueError\u001b[0m                                Traceback (most recent call last)",
      "Input \u001b[0;32mIn [5]\u001b[0m, in \u001b[0;36m<cell line: 10>\u001b[0;34m()\u001b[0m\n\u001b[1;32m      7\u001b[0m catalogs \u001b[38;5;241m=\u001b[39m pd\u001b[38;5;241m.\u001b[39mDataFrame(catalogs, columns\u001b[38;5;241m=\u001b[39m[\u001b[38;5;124m\"\u001b[39m\u001b[38;5;124mtime\u001b[39m\u001b[38;5;124m\"\u001b[39m]\u001b[38;5;241m+\u001b[39mconfig[\u001b[38;5;124m\"\u001b[39m\u001b[38;5;124mdims\u001b[39m\u001b[38;5;124m\"\u001b[39m]\u001b[38;5;241m+\u001b[39m[\u001b[38;5;124m\"\u001b[39m\u001b[38;5;124mmagnitude\u001b[39m\u001b[38;5;124m\"\u001b[39m, \u001b[38;5;124m\"\u001b[39m\u001b[38;5;124msigma_time\u001b[39m\u001b[38;5;124m\"\u001b[39m, \u001b[38;5;124m\"\u001b[39m\u001b[38;5;124msigma_amp\u001b[39m\u001b[38;5;124m\"\u001b[39m, \u001b[38;5;124m\"\u001b[39m\u001b[38;5;124mcov_time_amp\u001b[39m\u001b[38;5;124m\"\u001b[39m,  \u001b[38;5;124m\"\u001b[39m\u001b[38;5;124mevent_index\u001b[39m\u001b[38;5;124m\"\u001b[39m, \u001b[38;5;124m\"\u001b[39m\u001b[38;5;124mgamma_score\u001b[39m\u001b[38;5;124m\"\u001b[39m])\n\u001b[1;32m      8\u001b[0m \u001b[38;5;66;03m#catalogs[[\"longitude\",\"latitude\"]] = catalogs.apply(lambda x: pd.Series(proj(longitude=x[\"x(km)\"], latitude=x[\"y(km)\"], inverse=True)), axis=1)\u001b[39;00m\n\u001b[0;32m---> 10\u001b[0m catalogs[[\u001b[38;5;124m\"\u001b[39m\u001b[38;5;124mlongitude\u001b[39m\u001b[38;5;124m\"\u001b[39m,\u001b[38;5;124m\"\u001b[39m\u001b[38;5;124mlatitude\u001b[39m\u001b[38;5;124m\"\u001b[39m]] \u001b[38;5;241m=\u001b[39m catalogs\u001b[38;5;241m.\u001b[39mapply(\u001b[38;5;28;01mlambda\u001b[39;00m x: pd\u001b[38;5;241m.\u001b[39mSeries(proj(longitude\u001b[38;5;241m=\u001b[39mx[\u001b[38;5;124m\"\u001b[39m\u001b[38;5;124mx(km)\u001b[39m\u001b[38;5;124m\"\u001b[39m], latitude\u001b[38;5;241m=\u001b[39mx[\u001b[38;5;124m\"\u001b[39m\u001b[38;5;124my(km)\u001b[39m\u001b[38;5;124m\"\u001b[39m], inverse\u001b[38;5;241m=\u001b[39m\u001b[38;5;28;01mTrue\u001b[39;00m)), axis\u001b[38;5;241m=\u001b[39m\u001b[38;5;241m1\u001b[39m)\n\u001b[1;32m     12\u001b[0m catalogs[\u001b[38;5;124m\"\u001b[39m\u001b[38;5;124mdepth(m)\u001b[39m\u001b[38;5;124m\"\u001b[39m] \u001b[38;5;241m=\u001b[39m catalogs[\u001b[38;5;124m\"\u001b[39m\u001b[38;5;124mz(km)\u001b[39m\u001b[38;5;124m\"\u001b[39m]\u001b[38;5;241m.\u001b[39mapply(\u001b[38;5;28;01mlambda\u001b[39;00m x: x\u001b[38;5;241m*\u001b[39m\u001b[38;5;241m1e3\u001b[39m)\n\u001b[1;32m     15\u001b[0m \u001b[38;5;28;01mwith\u001b[39;00m \u001b[38;5;28mopen\u001b[39m(catalog_csv, \u001b[38;5;124m'\u001b[39m\u001b[38;5;124mw\u001b[39m\u001b[38;5;124m'\u001b[39m) \u001b[38;5;28;01mas\u001b[39;00m fp:\n",
      "File \u001b[0;32m~/opt/anaconda3/lib/python3.9/site-packages/pandas/core/frame.py:3643\u001b[0m, in \u001b[0;36mDataFrame.__setitem__\u001b[0;34m(self, key, value)\u001b[0m\n\u001b[1;32m   3641\u001b[0m     \u001b[38;5;28mself\u001b[39m\u001b[38;5;241m.\u001b[39m_setitem_frame(key, value)\n\u001b[1;32m   3642\u001b[0m \u001b[38;5;28;01melif\u001b[39;00m \u001b[38;5;28misinstance\u001b[39m(key, (Series, np\u001b[38;5;241m.\u001b[39mndarray, \u001b[38;5;28mlist\u001b[39m, Index)):\n\u001b[0;32m-> 3643\u001b[0m     \u001b[38;5;28;43mself\u001b[39;49m\u001b[38;5;241;43m.\u001b[39;49m\u001b[43m_setitem_array\u001b[49m\u001b[43m(\u001b[49m\u001b[43mkey\u001b[49m\u001b[43m,\u001b[49m\u001b[43m \u001b[49m\u001b[43mvalue\u001b[49m\u001b[43m)\u001b[49m\n\u001b[1;32m   3644\u001b[0m \u001b[38;5;28;01melif\u001b[39;00m \u001b[38;5;28misinstance\u001b[39m(value, DataFrame):\n\u001b[1;32m   3645\u001b[0m     \u001b[38;5;28mself\u001b[39m\u001b[38;5;241m.\u001b[39m_set_item_frame_value(key, value)\n",
      "File \u001b[0;32m~/opt/anaconda3/lib/python3.9/site-packages/pandas/core/frame.py:3685\u001b[0m, in \u001b[0;36mDataFrame._setitem_array\u001b[0;34m(self, key, value)\u001b[0m\n\u001b[1;32m   3680\u001b[0m \u001b[38;5;28;01melse\u001b[39;00m:\n\u001b[1;32m   3681\u001b[0m     \u001b[38;5;66;03m# Note: unlike self.iloc[:, indexer] = value, this will\u001b[39;00m\n\u001b[1;32m   3682\u001b[0m     \u001b[38;5;66;03m#  never try to overwrite values inplace\u001b[39;00m\n\u001b[1;32m   3684\u001b[0m     \u001b[38;5;28;01mif\u001b[39;00m \u001b[38;5;28misinstance\u001b[39m(value, DataFrame):\n\u001b[0;32m-> 3685\u001b[0m         \u001b[43mcheck_key_length\u001b[49m\u001b[43m(\u001b[49m\u001b[38;5;28;43mself\u001b[39;49m\u001b[38;5;241;43m.\u001b[39;49m\u001b[43mcolumns\u001b[49m\u001b[43m,\u001b[49m\u001b[43m \u001b[49m\u001b[43mkey\u001b[49m\u001b[43m,\u001b[49m\u001b[43m \u001b[49m\u001b[43mvalue\u001b[49m\u001b[43m)\u001b[49m\n\u001b[1;32m   3686\u001b[0m         \u001b[38;5;28;01mfor\u001b[39;00m k1, k2 \u001b[38;5;129;01min\u001b[39;00m \u001b[38;5;28mzip\u001b[39m(key, value\u001b[38;5;241m.\u001b[39mcolumns):\n\u001b[1;32m   3687\u001b[0m             \u001b[38;5;28mself\u001b[39m[k1] \u001b[38;5;241m=\u001b[39m value[k2]\n",
      "File \u001b[0;32m~/opt/anaconda3/lib/python3.9/site-packages/pandas/core/indexers/utils.py:428\u001b[0m, in \u001b[0;36mcheck_key_length\u001b[0;34m(columns, key, value)\u001b[0m\n\u001b[1;32m    426\u001b[0m \u001b[38;5;28;01mif\u001b[39;00m columns\u001b[38;5;241m.\u001b[39mis_unique:\n\u001b[1;32m    427\u001b[0m     \u001b[38;5;28;01mif\u001b[39;00m \u001b[38;5;28mlen\u001b[39m(value\u001b[38;5;241m.\u001b[39mcolumns) \u001b[38;5;241m!=\u001b[39m \u001b[38;5;28mlen\u001b[39m(key):\n\u001b[0;32m--> 428\u001b[0m         \u001b[38;5;28;01mraise\u001b[39;00m \u001b[38;5;167;01mValueError\u001b[39;00m(\u001b[38;5;124m\"\u001b[39m\u001b[38;5;124mColumns must be same length as key\u001b[39m\u001b[38;5;124m\"\u001b[39m)\n\u001b[1;32m    429\u001b[0m \u001b[38;5;28;01melse\u001b[39;00m:\n\u001b[1;32m    430\u001b[0m     \u001b[38;5;66;03m# Missing keys in columns are represented as -1\u001b[39;00m\n\u001b[1;32m    431\u001b[0m     \u001b[38;5;28;01mif\u001b[39;00m \u001b[38;5;28mlen\u001b[39m(columns\u001b[38;5;241m.\u001b[39mget_indexer_non_unique(key)[\u001b[38;5;241m0\u001b[39m]) \u001b[38;5;241m!=\u001b[39m \u001b[38;5;28mlen\u001b[39m(value\u001b[38;5;241m.\u001b[39mcolumns):\n",
      "\u001b[0;31mValueError\u001b[0m: Columns must be same length as key"
     ]
    }
   ],
   "source": [
    "event_idx0 = 0 ## current earthquake index\n",
    "assignments = []\n",
    "catalogs, assignments = association(picks, stations, config, event_idx0, config[\"method\"])\n",
    "event_idx0 += len(catalogs)\n",
    "\n",
    "## create catalog\n",
    "catalogs = pd.DataFrame(catalogs, columns=[\"time\"]+config[\"dims\"]+[\"magnitude\", \"sigma_time\", \"sigma_amp\", \"cov_time_amp\",  \"event_index\", \"gamma_score\"])\n",
    "\n",
    "# where I keep getting the error \n",
    "catalogs[[\"longitude\",\"latitude\"]] = catalogs.apply(lambda x: pd.Series(proj(longitude=x[\"x(km)\"], latitude=x[\"y(km)\"], inverse=True)), axis=1)\n",
    "catalogs[\"depth(m)\"] = catalogs[\"z(km)\"].apply(lambda x: x*1e3)\n",
    "\n",
    "\n",
    "with open(catalog_csv, 'w') as fp:\n",
    "    catalogs.to_csv(fp, sep=\"\\t\", index=False, \n",
    "                    float_format=\"%.3f\",\n",
    "                    date_format='%Y-%m-%dT%H:%M:%S.%f',\n",
    "                    columns=[\"time\", \"magnitude\", \"longitude\", \"latitude\", \"depth(m)\", \"sigma_time\", \"sigma_amp\", \"cov_time_amp\", \"event_index\", \"gamma_score\"])\n",
    "# catalogs = catalogs[['time', 'magnitude', 'longitude', 'latitude', 'depth(m)', 'sigma_time', 'sigma_amp', 'gamma_score']]\n",
    "\n",
    "## add assignment to picks\n",
    "assignments = pd.DataFrame(assignments, columns=[\"pick_index\", \"event_index\", \"gamma_score\"])\n",
    "picks = picks1.join(assignments.set_index(\"pick_index\")).fillna(-1).astype({'event_index': int})\n",
    "with open(picks_csv, 'w') as fp:\n",
    "    picks.to_csv(fp, sep=\"\\t\", index=False, \n",
    "                    date_format='%Y-%m-%dT%H:%M:%S.%f',\n",
    "                    columns=[\"station_id\", \"phase_time\", \"phase_type\", \"phase_score\", \"phase_amp\", \"event_index\", \"gamma_score\"])"
   ]
  },
  {
   "cell_type": "code",
   "execution_count": null,
   "metadata": {},
   "outputs": [],
   "source": []
  }
 ],
 "metadata": {
  "kernelspec": {
   "display_name": "Python 3 (ipykernel)",
   "language": "python",
   "name": "python3"
  },
  "language_info": {
   "codemirror_mode": {
    "name": "ipython",
    "version": 3
   },
   "file_extension": ".py",
   "mimetype": "text/x-python",
   "name": "python",
   "nbconvert_exporter": "python",
   "pygments_lexer": "ipython3",
   "version": "3.9.12"
  },
  "vscode": {
   "interpreter": {
    "hash": "e618e59ba5ce47ad879dff0cd3bf71dd85a3426ed742a6d70e7df16d39f7bc49"
   }
  }
 },
 "nbformat": 4,
 "nbformat_minor": 4
}
